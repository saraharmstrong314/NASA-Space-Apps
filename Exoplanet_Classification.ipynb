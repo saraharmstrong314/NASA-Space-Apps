{
 "cells": [
  {
   "cell_type": "code",
   "execution_count": 69,
   "id": "9dfb284f",
   "metadata": {},
   "outputs": [],
   "source": [
    "import pandas as pd\n",
    "from sklearn.model_selection import train_test_split\n",
    "from sklearn.preprocessing import LabelEncoder\n",
    "from sklearn.preprocessing import StandardScaler\n",
    "from sklearn.neighbors import KNeighborsClassifier"
   ]
  },
  {
   "cell_type": "code",
   "execution_count": 70,
   "id": "bce5e752",
   "metadata": {},
   "outputs": [],
   "source": [
    "df = pd.read_csv('PSCompPars_data.csv')\n",
    "df2 = pd.read_csv('webscraped_data.csv')"
   ]
  },
  {
   "cell_type": "code",
   "execution_count": 71,
   "id": "7d505960",
   "metadata": {},
   "outputs": [],
   "source": [
    "merged_df = pd.merge(df, df2[['pl_name', 'pl_fullname', 'pl_type']], on='pl_name', how='left')\n",
    "\n",
    "# weird 6 rows don't have a mapping even though they still show in NASA Exoplanet Archive\n",
    "merged_df = merged_df.dropna(subset=['pl_type']).reset_index(drop=True)\n",
    "\n",
    "planet_types = {'Gas Giants':'Gas Giant',\n",
    "                'Neptune-likes':'Neptune-like',\n",
    "                'Super Earths':'Super-Earth',\n",
    "                'Terrestrials':'Terrestrial',\n",
    "                'Unknowns':'Unknown'}\n",
    "merged_df['pl_type'] = merged_df['pl_type'].replace(planet_types)"
   ]
  },
  {
   "cell_type": "code",
   "execution_count": 73,
   "id": "a1f3ff48",
   "metadata": {},
   "outputs": [
    {
     "data": {
      "text/html": [
       "<div>\n",
       "<style scoped>\n",
       "    .dataframe tbody tr th:only-of-type {\n",
       "        vertical-align: middle;\n",
       "    }\n",
       "\n",
       "    .dataframe tbody tr th {\n",
       "        vertical-align: top;\n",
       "    }\n",
       "\n",
       "    .dataframe thead th {\n",
       "        text-align: right;\n",
       "    }\n",
       "</style>\n",
       "<table border=\"1\" class=\"dataframe\">\n",
       "  <thead>\n",
       "    <tr style=\"text-align: right;\">\n",
       "      <th></th>\n",
       "      <th>pl_name</th>\n",
       "      <th>disc_method</th>\n",
       "      <th>pl_controv_flag</th>\n",
       "      <th>pl_orbper_days</th>\n",
       "      <th>pl_radius_earth</th>\n",
       "      <th>pl_mass_earth</th>\n",
       "      <th>pl_eccentricity</th>\n",
       "      <th>pl_equil_tp</th>\n",
       "      <th>st_teff</th>\n",
       "      <th>st_radius</th>\n",
       "      <th>st_mass</th>\n",
       "      <th>st_acc</th>\n",
       "      <th>Ks_brightness</th>\n",
       "      <th>pl_fullname</th>\n",
       "      <th>pl_type</th>\n",
       "    </tr>\n",
       "  </thead>\n",
       "  <tbody>\n",
       "    <tr>\n",
       "      <th>0</th>\n",
       "      <td>11 Com b</td>\n",
       "      <td>Radial Velocity</td>\n",
       "      <td>0</td>\n",
       "      <td>323.21000</td>\n",
       "      <td>12.2</td>\n",
       "      <td>4914.89849</td>\n",
       "      <td>0.238</td>\n",
       "      <td>NaN</td>\n",
       "      <td>4874.0</td>\n",
       "      <td>13.76</td>\n",
       "      <td>2.09</td>\n",
       "      <td>2.45</td>\n",
       "      <td>2.282</td>\n",
       "      <td>11 Comae Berenices b</td>\n",
       "      <td>Gas Giant</td>\n",
       "    </tr>\n",
       "    <tr>\n",
       "      <th>1</th>\n",
       "      <td>11 UMi b</td>\n",
       "      <td>Radial Velocity</td>\n",
       "      <td>0</td>\n",
       "      <td>516.21997</td>\n",
       "      <td>12.3</td>\n",
       "      <td>4684.81420</td>\n",
       "      <td>0.080</td>\n",
       "      <td>NaN</td>\n",
       "      <td>4213.0</td>\n",
       "      <td>29.79</td>\n",
       "      <td>2.78</td>\n",
       "      <td>1.93</td>\n",
       "      <td>1.939</td>\n",
       "      <td>11 Ursae Minoris b</td>\n",
       "      <td>Gas Giant</td>\n",
       "    </tr>\n",
       "    <tr>\n",
       "      <th>2</th>\n",
       "      <td>14 And b</td>\n",
       "      <td>Radial Velocity</td>\n",
       "      <td>0</td>\n",
       "      <td>186.76000</td>\n",
       "      <td>13.1</td>\n",
       "      <td>1131.15130</td>\n",
       "      <td>0.000</td>\n",
       "      <td>NaN</td>\n",
       "      <td>4888.0</td>\n",
       "      <td>11.55</td>\n",
       "      <td>1.78</td>\n",
       "      <td>2.55</td>\n",
       "      <td>2.331</td>\n",
       "      <td>14 Andromedae b</td>\n",
       "      <td>Gas Giant</td>\n",
       "    </tr>\n",
       "    <tr>\n",
       "      <th>3</th>\n",
       "      <td>14 Her b</td>\n",
       "      <td>Radial Velocity</td>\n",
       "      <td>0</td>\n",
       "      <td>1765.03890</td>\n",
       "      <td>12.6</td>\n",
       "      <td>2559.47216</td>\n",
       "      <td>0.373</td>\n",
       "      <td>NaN</td>\n",
       "      <td>5338.0</td>\n",
       "      <td>0.93</td>\n",
       "      <td>0.91</td>\n",
       "      <td>4.45</td>\n",
       "      <td>4.714</td>\n",
       "      <td>14 Herculis b</td>\n",
       "      <td>Gas Giant</td>\n",
       "    </tr>\n",
       "    <tr>\n",
       "      <th>4</th>\n",
       "      <td>16 Cyg B b</td>\n",
       "      <td>Radial Velocity</td>\n",
       "      <td>0</td>\n",
       "      <td>798.50000</td>\n",
       "      <td>13.5</td>\n",
       "      <td>565.73740</td>\n",
       "      <td>0.680</td>\n",
       "      <td>NaN</td>\n",
       "      <td>5750.0</td>\n",
       "      <td>1.13</td>\n",
       "      <td>1.08</td>\n",
       "      <td>4.36</td>\n",
       "      <td>4.651</td>\n",
       "      <td>16 Cygni B b</td>\n",
       "      <td>Gas Giant</td>\n",
       "    </tr>\n",
       "  </tbody>\n",
       "</table>\n",
       "</div>"
      ],
      "text/plain": [
       "      pl_name      disc_method  pl_controv_flag  pl_orbper_days  \\\n",
       "0    11 Com b  Radial Velocity                0       323.21000   \n",
       "1    11 UMi b  Radial Velocity                0       516.21997   \n",
       "2    14 And b  Radial Velocity                0       186.76000   \n",
       "3    14 Her b  Radial Velocity                0      1765.03890   \n",
       "4  16 Cyg B b  Radial Velocity                0       798.50000   \n",
       "\n",
       "   pl_radius_earth  pl_mass_earth  pl_eccentricity  pl_equil_tp  st_teff  \\\n",
       "0             12.2     4914.89849            0.238          NaN   4874.0   \n",
       "1             12.3     4684.81420            0.080          NaN   4213.0   \n",
       "2             13.1     1131.15130            0.000          NaN   4888.0   \n",
       "3             12.6     2559.47216            0.373          NaN   5338.0   \n",
       "4             13.5      565.73740            0.680          NaN   5750.0   \n",
       "\n",
       "   st_radius  st_mass  st_acc  Ks_brightness           pl_fullname    pl_type  \n",
       "0      13.76     2.09    2.45          2.282  11 Comae Berenices b  Gas Giant  \n",
       "1      29.79     2.78    1.93          1.939    11 Ursae Minoris b  Gas Giant  \n",
       "2      11.55     1.78    2.55          2.331       14 Andromedae b  Gas Giant  \n",
       "3       0.93     0.91    4.45          4.714         14 Herculis b  Gas Giant  \n",
       "4       1.13     1.08    4.36          4.651          16 Cygni B b  Gas Giant  "
      ]
     },
     "execution_count": 73,
     "metadata": {},
     "output_type": "execute_result"
    }
   ],
   "source": [
    "merged_df.head(5)"
   ]
  },
  {
   "cell_type": "code",
   "execution_count": 98,
   "id": "5965c719",
   "metadata": {},
   "outputs": [
    {
     "name": "stdout",
     "output_type": "stream",
     "text": [
      "6\n",
      "6\n"
     ]
    }
   ],
   "source": [
    "mean_mass_by_type = merged_df.groupby('pl_type')['pl_mass_earth'].transform('mean')\n",
    "merged_df['pl_mass_earth'] = merged_df['pl_mass_earth'].fillna(mean_mass_by_type)\n",
    "mean_radius_by_type = merged_df.groupby('pl_type')['pl_radius_earth'].transform('mean')\n",
    "merged_df['pl_radius_earth'] = merged_df['pl_radius_earth'].fillna(mean_radius_by_type)\n",
    "\n",
    "print(merged_df['pl_mass_earth'].isna().sum())\n",
    "print(merged_df['pl_radius_earth'].isna().sum())"
   ]
  },
  {
   "cell_type": "code",
   "execution_count": 99,
   "id": "792edf20",
   "metadata": {},
   "outputs": [],
   "source": [
    "merged_df = merged_df.dropna(subset=['pl_radius_earth'])"
   ]
  },
  {
   "cell_type": "code",
   "execution_count": 74,
   "id": "04a303cc",
   "metadata": {},
   "outputs": [
    {
     "data": {
      "text/plain": [
       "pl_controv_flag\n",
       "0    5729\n",
       "1      30\n",
       "Name: count, dtype: int64"
      ]
     },
     "execution_count": 74,
     "metadata": {},
     "output_type": "execute_result"
    }
   ],
   "source": [
    "merged_df['pl_controv_flag'].value_counts()"
   ]
  },
  {
   "cell_type": "code",
   "execution_count": 55,
   "id": "552adbb4",
   "metadata": {},
   "outputs": [],
   "source": [
    "data = merged_df[['pl_name', 'pl_fullname', 'pl_type']]\n",
    "data.to_csv('planet_data.csv', index=False)"
   ]
  },
  {
   "cell_type": "code",
   "execution_count": 46,
   "id": "325fc90e",
   "metadata": {},
   "outputs": [
    {
     "data": {
      "text/plain": [
       "pl_type\n",
       "Neptune-likes    1954\n",
       "Gas Giants       1802\n",
       "Super Earths     1729\n",
       "Terrestrials      205\n",
       "SPACE              63\n",
       "NaN                 6\n",
       "Unknowns            6\n",
       "Name: count, dtype: int64"
      ]
     },
     "execution_count": 46,
     "metadata": {},
     "output_type": "execute_result"
    }
   ],
   "source": [
    "merged_df['pl_type'].value_counts(dropna=False)"
   ]
  }
 ],
 "metadata": {
  "kernelspec": {
   "display_name": "Python 3 (ipykernel)",
   "language": "python",
   "name": "python3"
  },
  "language_info": {
   "codemirror_mode": {
    "name": "ipython",
    "version": 3
   },
   "file_extension": ".py",
   "mimetype": "text/x-python",
   "name": "python",
   "nbconvert_exporter": "python",
   "pygments_lexer": "ipython3",
   "version": "3.11.5"
  }
 },
 "nbformat": 4,
 "nbformat_minor": 5
}
